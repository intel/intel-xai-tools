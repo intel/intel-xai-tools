{
 "cells": [
  {
   "cell_type": "markdown",
   "id": "cd16e50d",
   "metadata": {},
   "source": [
    "# Generating Model Card with PyTorch"
   ]
  },
  {
   "cell_type": "markdown",
   "id": "3a116383",
   "metadata": {},
   "source": [
    "This notebook intends to provide an example of generating a model card for a PyTorch model using Intel Model Card Generator.\n",
    "\n",
    "   1. [Data Collection and Prerpocessing from Adult Dataset](#1.-Data-Collection-and-Prerpocessing)\n",
    "   2. [Build Multilayer Neural NetWork using PyTorch](#2.-Build-Model)\n",
    "   3. [Train Model](#3.-Train-Model)\n",
    "   4. [Save Model](#4.-Save-Model)\n",
    "   5. [Generate Model Card with Intel Model Card Generator](#5.-Generate-Model-Card)"
   ]
  },
  {
   "cell_type": "code",
   "execution_count": null,
   "id": "863845f1",
   "metadata": {},
   "outputs": [],
   "source": [
    "import pandas as pd\n",
    "import numpy as np\n",
    "import torch\n",
    "import torch.nn as nn\n",
    "from torch.nn.functional import relu\n",
    "import os\n",
    "from sklearn.datasets import fetch_openml\n",
    "from intel_ai_safety.model_card_gen.model_card_gen import ModelCardGen\n",
    "from intel_ai_safety.model_card_gen.datasets import PytorchDataset\n",
    "from torch.utils.data import Dataset"
   ]
  },
  {
   "cell_type": "markdown",
   "id": "8a5a1e7a",
   "metadata": {},
   "source": [
    "## 1. Data Collection and Preprocessing"
   ]
  },
  {
   "cell_type": "code",
   "execution_count": null,
   "id": "f9a4f04f",
   "metadata": {},
   "outputs": [],
   "source": [
    "CATEGORICAL_FEATURE_KEYS = [\n",
    "    'workclass',\n",
    "    'marital-status',\n",
    "    'occupation',\n",
    "    'relationship',\n",
    "    'race',\n",
    "    'sex',\n",
    "    'native-country',\n",
    "]\n",
    "\n",
    "NUMERIC_FEATURE_KEYS = [\n",
    "    'age',\n",
    "    'capital-gain',\n",
    "    'capital-loss',\n",
    "    'hours-per-week',\n",
    "    'education-num'\n",
    "]\n",
    "\n",
    "\n",
    "DROP_COLUMNS = ['fnlwgt', 'education']\n",
    "\n",
    "LABEL_KEY = 'label'"
   ]
  },
  {
   "cell_type": "markdown",
   "id": "69777d31",
   "metadata": {},
   "source": [
    "#### Fetch Data from OpenML"
   ]
  },
  {
   "cell_type": "code",
   "execution_count": null,
   "id": "92436295",
   "metadata": {},
   "outputs": [],
   "source": [
    "data = fetch_openml(data_id=1590, as_frame=True)\n",
    "raw_data = data.data\n",
    "raw_data['label'] = data.target\n",
    "adult_data = raw_data.copy()"
   ]
  },
  {
   "cell_type": "markdown",
   "id": "a0595f01",
   "metadata": {},
   "source": [
    "#### Drop Unneeded Columns"
   ]
  },
  {
   "cell_type": "code",
   "execution_count": null,
   "id": "9657c9ab",
   "metadata": {},
   "outputs": [],
   "source": [
    "adult_data = adult_data.drop(DROP_COLUMNS, axis=1)\n",
    "adult_data = pd.get_dummies(adult_data, columns=CATEGORICAL_FEATURE_KEYS)\n",
    "adult_data['label'] = adult_data['label'].map({'<=50K': 0, '>50K': 1})"
   ]
  },
  {
   "cell_type": "markdown",
   "id": "74bdd119",
   "metadata": {},
   "source": [
    "#### Train Test Split"
   ]
  },
  {
   "cell_type": "code",
   "execution_count": null,
   "id": "c4d12735",
   "metadata": {},
   "outputs": [],
   "source": [
    "# Convert features and labels to numpy arrays.\n",
    "labels = adult_data['label'].to_numpy()\n",
    "adult_data = adult_data.drop(['label'], axis=1)\n",
    "feature_names = list(adult_data.columns)"
   ]
  },
  {
   "cell_type": "code",
   "execution_count": null,
   "id": "4d71fa28",
   "metadata": {},
   "outputs": [],
   "source": [
    "class AdultDataset(Dataset):\n",
    "    \"\"\"Face Landmarks dataset.\"\"\"\n",
    "\n",
    "    def __init__(self, df, labels, transform=None):\n",
    "        self.data = self.make_input_tensor(df)\n",
    "        self.labels = self.make_label_tensor(labels)\n",
    "        self.transform = transform\n",
    "\n",
    "    def __len__(self):\n",
    "        return len(self.adult_df)\n",
    "    \n",
    "    def make_input_tensor(self, df):\n",
    "        return torch.from_numpy(df.to_numpy()).type(torch.FloatTensor)\n",
    "    \n",
    "    def make_label_tensor(self, label_array):\n",
    "        return torch.from_numpy(label_array)\n",
    "\n",
    "    def __getitem__(self, idx):\n",
    "        if torch.is_tensor(idx):\n",
    "            idx = idx.tolist()\n",
    "        sample = self.data[idx]\n",
    "        label = self.labels[idx]\n",
    "        if self.transform:\n",
    "            sample = self.transform(sample)\n",
    "        return sample, label"
   ]
  },
  {
   "cell_type": "code",
   "execution_count": null,
   "id": "9d6f1472",
   "metadata": {},
   "outputs": [],
   "source": [
    "adult_dataset = AdultDataset(adult_data, labels)"
   ]
  },
  {
   "cell_type": "markdown",
   "id": "0ae44650",
   "metadata": {},
   "source": [
    "## 2. Build Model"
   ]
  },
  {
   "cell_type": "code",
   "execution_count": null,
   "id": "62bdb925",
   "metadata": {},
   "outputs": [],
   "source": [
    "class AdultNN(nn.Module):\n",
    "    \n",
    "    def __init__(self, num_features, num_classes):\n",
    "        super().__init__()\n",
    "        self.num_features = num_features\n",
    "        self.num_classes = num_classes\n",
    "        \n",
    "        self.lin1 = torch.nn.Linear(self.num_features,  150)        \n",
    "        self.lin2 = torch.nn.Linear(50, 50)        \n",
    "        self.lin3 = torch.nn.Linear(50, 50)\n",
    "        \n",
    "        self.lin4 = torch.nn.Linear(150, 150) \n",
    "        \n",
    "        self.lin5 = torch.nn.Linear(50, 50)        \n",
    "        self.lin6 = torch.nn.Linear(50, 50)\n",
    "        self.lin10 = torch.nn.Linear(150, self.num_classes)\n",
    "        \n",
    "        self.prelu = nn.PReLU()\n",
    "        self.dropout = nn.Dropout(0.25)\n",
    "\n",
    "    def forward(self, xin):\n",
    "        x = relu(self.lin1(xin))\n",
    "        x = relu(self.lin4(x)) \n",
    "        x = self.dropout(x)\n",
    "        x = relu(self.lin10(x)) \n",
    "        return x"
   ]
  },
  {
   "cell_type": "code",
   "execution_count": null,
   "id": "ee07279f",
   "metadata": {},
   "outputs": [],
   "source": [
    "torch.manual_seed(1)  # Set seed for reproducibility.\n",
    "\n",
    "class AdultNN(nn.Module):\n",
    "    def __init__(self, feature_size, num_labels):\n",
    "        super().__init__()\n",
    "        self.linear1 = nn.Linear(feature_size, feature_size)\n",
    "        self.sigmoid1 = nn.Sigmoid()\n",
    "        self.linear2 = nn.Linear(feature_size, 8)\n",
    "        self.sigmoid2 = nn.Sigmoid()\n",
    "        self.linear3 = nn.Linear(8, 2)\n",
    "        self.softmax = nn.Softmax(dim=1)\n",
    "\n",
    "    def forward(self, x):\n",
    "        lin1_out = self.linear1(x)\n",
    "        sigmoid_out1 = self.sigmoid1(lin1_out)\n",
    "        sigmoid_out2 = self.sigmoid2(self.linear2(sigmoid_out1))\n",
    "        return self.softmax(self.linear3(sigmoid_out2))"
   ]
  },
  {
   "cell_type": "markdown",
   "id": "488da543",
   "metadata": {},
   "source": [
    "## 3. Train Model"
   ]
  },
  {
   "cell_type": "code",
   "execution_count": null,
   "id": "a6e0a24c",
   "metadata": {},
   "outputs": [],
   "source": [
    "net = AdultNN(len(feature_names), 2)\n",
    "\n",
    "criterion = nn.CrossEntropyLoss()\n",
    "num_epochs = 500\n",
    "\n",
    "optimizer = torch.optim.Adam(net.parameters(), lr=0.001)\n",
    "input_tensor, label_tensor = adult_dataset[:]\n",
    "for epoch in range(num_epochs):    \n",
    "    output = net(input_tensor)\n",
    "    loss = criterion(output, label_tensor)\n",
    "    optimizer.zero_grad()\n",
    "    loss.backward()\n",
    "    optimizer.step()\n",
    "    if epoch % 20 == 0:\n",
    "        print ('Epoch {}/{} => Loss: {:.2f}'.format(epoch+1, num_epochs, loss.item()))"
   ]
  },
  {
   "cell_type": "markdown",
   "id": "84abfd7a",
   "metadata": {},
   "source": [
    "## 4. Save Model"
   ]
  },
  {
   "cell_type": "markdown",
   "id": "30eb0b42",
   "metadata": {},
   "source": [
    "Save offline version of our module"
   ]
  },
  {
   "cell_type": "code",
   "execution_count": null,
   "id": "c9ac4e8d",
   "metadata": {},
   "outputs": [],
   "source": [
    "torch.jit.save(torch.jit.script(net), 'adult_model.pt')"
   ]
  },
  {
   "cell_type": "markdown",
   "id": "91af620e",
   "metadata": {},
   "source": [
    "## 5. Generate Model Card"
   ]
  },
  {
   "cell_type": "markdown",
   "id": "2967b587",
   "metadata": {},
   "source": [
    "#### EvalConfig Input"
   ]
  },
  {
   "cell_type": "code",
   "execution_count": null,
   "id": "ed9522a3",
   "metadata": {},
   "outputs": [],
   "source": [
    "_eval_config = 'eval_config.proto'"
   ]
  },
  {
   "cell_type": "code",
   "execution_count": null,
   "id": "1f0f8609",
   "metadata": {},
   "outputs": [],
   "source": [
    "%%writefile {_eval_config}\n",
    "\n",
    "model_specs {\n",
    "    label_key: 'label'\n",
    "    prediction_key: 'prediction'\n",
    "  }\n",
    "metrics_specs {\n",
    "    metrics {class_name: \"BinaryAccuracy\"}\n",
    "    metrics {class_name: \"AUC\"}\n",
    "    metrics {class_name: \"ConfusionMatrixPlot\"}\n",
    "#     metrics {class_name: \"ConfusionMatrixAtThresholds\"}\n",
    "    metrics {\n",
    "      class_name: \"FairnessIndicators\"\n",
    "#       config: '{\"thresholds\": [0.25, 0.5, 0.75]}'\n",
    "    }\n",
    "  }\n",
    "slicing_specs {}\n",
    "slicing_specs {\n",
    "        feature_keys: 'sex_Female'\n",
    "#         feature_keys: 'sex_Male'\n",
    "  }\n",
    "options {\n",
    "    include_default_metrics { value: false }\n",
    "  }"
   ]
  },
  {
   "cell_type": "code",
   "execution_count": null,
   "id": "12cc26dc",
   "metadata": {},
   "outputs": [],
   "source": [
    "mc = {\n",
    "    \"schema_version\": \"0.0.1\",\n",
    "    \"model_details\": {\n",
    "        \"name\": \"Adult Multilayer Neural Network\",\n",
    "        \"version\": {\n",
    "            \"name\": \"0.1\",\n",
    "            \"date\": \"2022-08-01\"\n",
    "        },\n",
    "        \"graphics\": {},\n",
    "\n",
    "        \"citations\": [\n",
    "             {\n",
    "                \"citation\": 'Simoudis, Evangelos, Jiawei Han, and Usama Fayyad. Proceedings of the second international conference on knowledge discovery & data mining. No. CONF-960830-. AAAI Press, Menlo Park, CA (United States), 1996.'\n",
    "             },\n",
    "            {\n",
    "                \"citation\": 'Friedler, Sorelle A., et al. \"A Comparative Study of Fairness-Enhancing Interventions in Machine Learning.\" Proceedings of the Conference on Fairness, Accountability, and Transparency, 2019, https://doi.org/10.1145/3287560.3287589.'\n",
    "            },\n",
    "            {\n",
    "                \"citation\": 'Lahoti, Preethi, et al. \"Fairness without demographics through adversarially reweighted learning.\" Advances in neural information processing systems 33 (2020): 728-740.'\n",
    "            }\n",
    "        ],\n",
    "        \"overview\": 'This example model card is for a multilayer network trained \"Adult\" dataset from the UCI repository with the learning task of predicting whether a person has a salary greater or less than $50,000.',\n",
    "    }\n",
    "}"
   ]
  },
  {
   "cell_type": "code",
   "execution_count": null,
   "id": "c36e9439",
   "metadata": {},
   "outputs": [],
   "source": [
    "train_dataset = PytorchDataset(AdultDataset(adult_data, labels), feature_names=adult_data.columns)"
   ]
  },
  {
   "cell_type": "code",
   "execution_count": null,
   "id": "51d56b07",
   "metadata": {},
   "outputs": [],
   "source": [
    "mcg = ModelCardGen.generate(data_sets={'train': train_dataset},\n",
    "                      model_path='adult_model.pt', \n",
    "                      eval_config=_eval_config,\n",
    "                      model_card=mc)"
   ]
  },
  {
   "cell_type": "code",
   "execution_count": null,
   "id": "f9794efc",
   "metadata": {},
   "outputs": [],
   "source": [
    "mcg.export_html('census_mc.html')"
   ]
  }
 ],
 "metadata": {
  "kernelspec": {
   "display_name": "Python 3 (ipykernel)",
   "language": "python",
   "name": "python3"
  },
  "language_info": {
   "codemirror_mode": {
    "name": "ipython",
    "version": 3
   },
   "file_extension": ".py",
   "mimetype": "text/x-python",
   "name": "python",
   "nbconvert_exporter": "python",
   "pygments_lexer": "ipython3",
   "version": "3.10.12"
  }
 },
 "nbformat": 4,
 "nbformat_minor": 5
}
