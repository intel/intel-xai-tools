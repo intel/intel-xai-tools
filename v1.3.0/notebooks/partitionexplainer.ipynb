{
 "cells": [
  {
   "cell_type": "markdown",
   "id": "4a5b3e26-8af8-49a6-8d56-85ee0a0df736",
   "metadata": {},
   "source": [
    "# [Explaining Custom NN NewsGroups Classification Using the Attributions Explainer](https://coderzcolumn.com/tutorials/artificial-intelligence/explain-text-classification-models-using-shap-values-keras)"
   ]
  },
  {
   "cell_type": "code",
   "execution_count": null,
   "id": "0b16c4fc-6221-42a3-94d6-3636bd73aa73",
   "metadata": {
    "tags": []
   },
   "outputs": [],
   "source": [
    "from intel_ai_safety.explainer.attributions import attributions\n",
    "from intel_ai_safety.explainer.metrics import metrics"
   ]
  },
  {
   "cell_type": "code",
   "execution_count": null,
   "id": "a3aff356-2c45-4de1-8f9e-451a0ae8e915",
   "metadata": {
    "tags": []
   },
   "outputs": [],
   "source": [
    "import warnings\n",
    "warnings.filterwarnings('ignore')\n",
    "import os\n",
    "os.environ['KMP_WARNINGS'] = 'off'\n",
    "\n",
    "import numpy as np\n",
    "from sklearn import datasets\n",
    "\n",
    "all_categories = ['alt.atheism','comp.graphics','comp.os.ms-windows.misc','comp.sys.ibm.pc.hardware',\n",
    "                  'comp.sys.mac.hardware','comp.windows.x', 'misc.forsale','rec.autos','rec.motorcycles',\n",
    "                  'rec.sport.baseball','rec.sport.hockey','sci.crypt','sci.electronics','sci.med',\n",
    "                  'sci.space','soc.religion.christian','talk.politics.guns','talk.politics.mideast',\n",
    "                  'talk.politics.misc','talk.religion.misc']\n",
    "\n",
    "selected_categories = ['alt.atheism','comp.graphics','rec.motorcycles','sci.space','talk.politics.misc']\n",
    "\n",
    "X_train_text, Y_train = datasets.fetch_20newsgroups(subset=\"train\", categories=selected_categories, return_X_y=True)\n",
    "X_test_text , Y_test  = datasets.fetch_20newsgroups(subset=\"test\", categories=selected_categories, return_X_y=True)\n",
    "\n",
    "X_train_text = np.array(X_train_text)\n",
    "X_test_text = np.array(X_test_text)\n",
    "\n",
    "classes = np.unique(Y_train)\n",
    "mapping = dict(zip(classes, selected_categories))\n",
    "\n",
    "len(X_train_text), len(X_test_text), classes, mapping"
   ]
  },
  {
   "cell_type": "markdown",
   "id": "8f5830fc-cfa0-4142-96a0-c214eb7d7f2f",
   "metadata": {},
   "source": [
    "## Vectorize Text Data"
   ]
  },
  {
   "cell_type": "code",
   "execution_count": null,
   "id": "49bc8bd2-d943-42eb-be11-1df91c26120d",
   "metadata": {
    "tags": []
   },
   "outputs": [],
   "source": [
    "import sklearn\n",
    "import numpy as np\n",
    "from sklearn.feature_extraction.text import CountVectorizer, TfidfVectorizer\n",
    "\n",
    "vectorizer = TfidfVectorizer(max_features=50000)\n",
    "\n",
    "vectorizer.fit(np.concatenate((X_train_text, X_test_text)))\n",
    "X_train = vectorizer.transform(X_train_text)\n",
    "X_test = vectorizer.transform(X_test_text)\n",
    "\n",
    "X_train, X_test = X_train.toarray(), X_test.toarray()\n",
    "\n",
    "X_train.shape, X_test.shape"
   ]
  },
  {
   "cell_type": "markdown",
   "id": "9411e976-c96d-45c0-8e46-34ba6c27fc88",
   "metadata": {},
   "source": [
    "## Define the Model"
   ]
  },
  {
   "cell_type": "code",
   "execution_count": null,
   "id": "7801f652-d266-427a-af38-e66dcbaf4cc6",
   "metadata": {
    "tags": []
   },
   "outputs": [],
   "source": [
    "from tensorflow.keras.models import Sequential\n",
    "from tensorflow.keras import layers\n",
    "\n",
    "def create_model():\n",
    "    return Sequential([\n",
    "                        layers.Input(shape=X_train.shape[1:]),\n",
    "                        layers.Dense(128, activation=\"relu\"),\n",
    "                        layers.Dense(64, activation=\"relu\"),\n",
    "                        layers.Dense(len(classes), activation=\"softmax\"),\n",
    "                    ])\n",
    "\n",
    "model = create_model()\n",
    "\n"
   ]
  },
  {
   "cell_type": "code",
   "execution_count": null,
   "id": "5318769b-d5d7-42de-8e4b-7a209344595a",
   "metadata": {
    "tags": []
   },
   "outputs": [],
   "source": [
    "model.summary()"
   ]
  },
  {
   "cell_type": "markdown",
   "id": "d9aef351-62cc-434a-a7df-41a7ca8c1fd0",
   "metadata": {},
   "source": [
    "## Compile and Train Model"
   ]
  },
  {
   "cell_type": "code",
   "execution_count": null,
   "id": "17e1c3ad-647a-47a6-ac08-910acf7a718b",
   "metadata": {
    "tags": []
   },
   "outputs": [],
   "source": [
    "model.compile(\"adam\", \"sparse_categorical_crossentropy\", metrics=[\"accuracy\"])\n",
    "history = model.fit(X_train, Y_train, batch_size=256, epochs=5, validation_data=(X_test, Y_test))"
   ]
  },
  {
   "cell_type": "markdown",
   "id": "0445a068-b5d0-4ad8-a19b-1f97ee6f8a82",
   "metadata": {},
   "source": [
    "## Evaluate Model Performance"
   ]
  },
  {
   "cell_type": "code",
   "execution_count": null,
   "id": "e989daac-a0bd-4659-ba86-a2d7b680e35c",
   "metadata": {
    "tags": []
   },
   "outputs": [],
   "source": [
    "from sklearn.metrics import accuracy_score\n",
    "train_preds = model.predict(X_train)\n",
    "test_preds = model.predict(X_test)\n",
    "\n",
    "print(\"Train Accuracy : {:.3f}\".format(accuracy_score(Y_train, np.argmax(train_preds, axis=1))))\n",
    "print(\"Test  Accuracy : {:.3f}\".format(accuracy_score(Y_test, np.argmax(test_preds, axis=1))))"
   ]
  },
  {
   "cell_type": "code",
   "execution_count": null,
   "id": "650b4d22-c4af-4078-98bf-8496407af0d6",
   "metadata": {
    "tags": []
   },
   "outputs": [],
   "source": [
    "cm = metrics.confusion_matrix(Y_test, test_preds, selected_categories)\n",
    "cm.visualize()\n",
    "print(cm.report)"
   ]
  },
  {
   "cell_type": "code",
   "execution_count": null,
   "id": "b1b7bf93-275c-4f35-a27a-b9a12d184b36",
   "metadata": {
    "tags": []
   },
   "outputs": [],
   "source": [
    "plotter = metrics.plot(Y_test, test_preds, selected_categories)\n",
    "plotter.pr_curve()"
   ]
  },
  {
   "cell_type": "code",
   "execution_count": null,
   "id": "0c45a0b9-55b9-4ae2-9462-cbfaac6b886e",
   "metadata": {
    "tags": []
   },
   "outputs": [],
   "source": [
    "plotter.roc_curve()"
   ]
  },
  {
   "cell_type": "code",
   "execution_count": null,
   "id": "a6ad95c8-94db-4e18-9f8d-da8362d4d797",
   "metadata": {},
   "outputs": [],
   "source": [
    "import re\n",
    "\n",
    "X_batch_text = X_test_text[1:3]\n",
    "X_batch = X_test[1:3]\n",
    "\n",
    "print(\"Samples : \")\n",
    "for text in X_batch_text:\n",
    "    print(re.split(r\"\\W+\", text))\n",
    "    print()\n",
    "\n",
    "preds_proba = model.predict(X_batch)\n",
    "preds = preds_proba.argmax(axis=1)\n",
    "\n",
    "print(\"Actual    Target Values : {}\".format([selected_categories[target] for target in Y_test[1:3]]))\n",
    "print(\"Predicted Target Values : {}\".format([selected_categories[target] for target in preds]))\n",
    "print(\"Predicted Probabilities : {}\".format(preds_proba.max(axis=1)))"
   ]
  },
  {
   "cell_type": "markdown",
   "id": "720c09ac-ef40-40be-8a03-bc0041912668",
   "metadata": {},
   "source": [
    "## SHAP Partition Explainer"
   ]
  },
  {
   "cell_type": "markdown",
   "id": "5abf7cfe-5c85-4f2a-94dd-0b2813e42985",
   "metadata": {},
   "source": [
    "## Visualize SHAP Values Correct Predictions"
   ]
  },
  {
   "cell_type": "code",
   "execution_count": null,
   "id": "44966218-0abe-489c-8f21-fea9cf0b81a9",
   "metadata": {
    "tags": []
   },
   "outputs": [],
   "source": [
    "def make_predictions(X_batch_text):\n",
    "    X_batch = vectorizer.transform(X_batch_text).toarray()\n",
    "    preds = model.predict(X_batch)\n",
    "    return preds\n",
    "\n",
    "partition_explainer = attributions.partition_text_explainer(make_predictions, selected_categories, X_batch_text, r\"\\W+\")"
   ]
  },
  {
   "cell_type": "markdown",
   "id": "af9179a3-1eea-4801-a72d-12e70eebd9e7",
   "metadata": {},
   "source": [
    "### Text Plot"
   ]
  },
  {
   "cell_type": "code",
   "execution_count": null,
   "id": "bf79d100-43de-4b01-b823-b1ec1a80fda4",
   "metadata": {},
   "outputs": [],
   "source": [
    "partition_explainer.visualize()"
   ]
  },
  {
   "cell_type": "markdown",
   "id": "bb76b907-5985-4766-ad0c-87b3019e321a",
   "metadata": {},
   "source": [
    "### Bar Plots"
   ]
  },
  {
   "cell_type": "markdown",
   "id": "2248ba63-312f-4fa6-a487-788d58d950e9",
   "metadata": {},
   "source": [
    "#### Bar Plot 1"
   ]
  },
  {
   "cell_type": "code",
   "execution_count": null,
   "id": "bd02eb33-36b1-4eee-a5d4-bf2e7632ae5d",
   "metadata": {},
   "outputs": [],
   "source": [
    "shap.plots.bar(shap_values[0,:, selected_categories[preds[0]]], max_display=15,\n",
    "               order=shap.Explanation.argsort.flip)"
   ]
  },
  {
   "cell_type": "markdown",
   "id": "736d04af-d999-43ff-a10a-50760907de51",
   "metadata": {},
   "source": [
    "### Bar Plot 2"
   ]
  },
  {
   "cell_type": "code",
   "execution_count": null,
   "id": "ff7cdea7-21dc-44e3-be30-c484d290a1b5",
   "metadata": {},
   "outputs": [],
   "source": [
    "shap.plots.bar(shap_values[1,:, selected_categories[preds[1]]], max_display=15,\n",
    "               order=shap.Explanation.argsort.flip)"
   ]
  },
  {
   "cell_type": "markdown",
   "id": "da6c2a46-fb58-4972-b48c-475437a17874",
   "metadata": {},
   "source": [
    "## Waterfall Plots"
   ]
  },
  {
   "cell_type": "markdown",
   "id": "c2a4a486-a975-4465-8158-5f621abcea46",
   "metadata": {},
   "source": [
    "### Waterfall Plot 1"
   ]
  },
  {
   "cell_type": "code",
   "execution_count": null,
   "id": "c7af5d14-9fad-4ce6-b442-260bf35d62b3",
   "metadata": {},
   "outputs": [],
   "source": [
    "shap.waterfall_plot(shap_values[0][:, selected_categories[preds[0]]], max_display=15)"
   ]
  },
  {
   "cell_type": "markdown",
   "id": "8616e02f-1a66-42ef-8598-2c9e190da534",
   "metadata": {},
   "source": [
    "### Waterfall Plot 2"
   ]
  },
  {
   "cell_type": "code",
   "execution_count": null,
   "id": "77536572-b7c6-4abc-a978-2a9ac92b1873",
   "metadata": {},
   "outputs": [],
   "source": [
    "shap.waterfall_plot(shap_values[1][:, selected_categories[preds[1]]], max_display=15)"
   ]
  },
  {
   "cell_type": "markdown",
   "id": "c56958cf-8983-415c-8065-5536b7a49be3",
   "metadata": {},
   "source": [
    "## Force Plot"
   ]
  },
  {
   "cell_type": "code",
   "execution_count": null,
   "id": "d7e8e34b-7e99-4ebe-8fdd-22f83f01c7d2",
   "metadata": {},
   "outputs": [],
   "source": [
    "import re\n",
    "tokens = re.split(\"\\W+\", X_batch_text[0].lower())\n",
    "shap.initjs()\n",
    "shap.force_plot(shap_values.base_values[0][preds[0]], shap_values[0][:, preds[0]].values,\n",
    "                feature_names = tokens[:-1], out_names=selected_categories[preds[0]])"
   ]
  }
 ],
 "metadata": {
  "jupytext": {
   "formats": "ipynb,md:myst",
   "orphan": true
  },
  "kernelspec": {
   "display_name": "Python 3 (ipykernel)",
   "language": "python",
   "name": "python3"
  },
  "language_info": {
   "codemirror_mode": {
    "name": "ipython",
    "version": 3
   },
   "file_extension": ".py",
   "mimetype": "text/x-python",
   "name": "python",
   "nbconvert_exporter": "python",
   "pygments_lexer": "ipython3",
   "version": "3.10.12"
  }
 },
 "nbformat": 4,
 "nbformat_minor": 5
}
